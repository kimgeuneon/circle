{
 "cells": [
  {
   "cell_type": "code",
   "execution_count": 2,
   "metadata": {},
   "outputs": [],
   "source": [
    "import sys\n",
    "import os\n",
    "sys.path.append(os.pardir)  # 부모 디렉터리의 파일을 가져올 수 있도록 설정"
   ]
  },
  {
   "cell_type": "code",
   "execution_count": 3,
   "metadata": {},
   "outputs": [
    {
     "ename": "ModuleNotFoundError",
     "evalue": "No module named 'tqdm'",
     "output_type": "error",
     "traceback": [
      "\u001b[0;31m---------------------------------------------------------------------------\u001b[0m",
      "\u001b[0;31mModuleNotFoundError\u001b[0m                       Traceback (most recent call last)",
      "Cell \u001b[0;32mIn[3], line 8\u001b[0m\n\u001b[1;32m      6\u001b[0m \u001b[38;5;28;01mfrom\u001b[39;00m \u001b[38;5;21;01mdataset\u001b[39;00m\u001b[38;5;21;01m.\u001b[39;00m\u001b[38;5;21;01mmnist\u001b[39;00m \u001b[38;5;28;01mimport\u001b[39;00m load_mnist\n\u001b[1;32m      7\u001b[0m \u001b[38;5;28;01mfrom\u001b[39;00m \u001b[38;5;21;01mcommon\u001b[39;00m\u001b[38;5;21;01m.\u001b[39;00m\u001b[38;5;21;01moptimizer\u001b[39;00m \u001b[38;5;28;01mimport\u001b[39;00m Adam\n\u001b[0;32m----> 8\u001b[0m \u001b[38;5;28;01mfrom\u001b[39;00m \u001b[38;5;21;01mtqdm\u001b[39;00m \u001b[38;5;28;01mimport\u001b[39;00m tqdm\n\u001b[1;32m      9\u001b[0m \u001b[38;5;28;01mimport\u001b[39;00m \u001b[38;5;21;01mpandas\u001b[39;00m \u001b[38;5;28;01mas\u001b[39;00m \u001b[38;5;21;01mpd\u001b[39;00m\n\u001b[1;32m     11\u001b[0m \u001b[38;5;66;03m# set seed\u001b[39;00m\n",
      "\u001b[0;31mModuleNotFoundError\u001b[0m: No module named 'tqdm'"
     ]
    }
   ],
   "source": [
    "# coding: utf-8\n",
    "from common.layers import *\n",
    "from collections import OrderedDict\n",
    "from datetime import datetime\n",
    "import numpy as np\n",
    "from dataset.mnist import load_mnist\n",
    "from common.optimizer import Adam\n",
    "from tqdm import tqdm\n",
    "import pandas as pd\n",
    "\n",
    "# set seed\n",
    "np.random.seed(42)\n",
    "\n",
    "# set path\n",
    "log_path = 'log_' + datetime.now().strftime('%Y-%m-%d_%H-%M-%S')\n",
    "if not os.path.exists(log_path):\n",
    "    os.makedirs(log_path, exist_ok=True)\n",
    "\n",
    "\n",
    "class AdvancedMultiLayerNet:\n",
    "\n",
    "    def __init__(self, input_size, hidden_size_list, output_size, weight_decay_lambda=0,\n",
    "                 use_dropout=False, dropout_ration=0.5, use_batchnorm=False):\n",
    "\n",
    "        self.input_size = input_size\n",
    "        self.output_size = output_size\n",
    "        self.hidden_size_list = hidden_size_list\n",
    "        self.hidden_layer_num = len(hidden_size_list)\n",
    "        self.use_dropout = use_dropout\n",
    "        self.weight_decay_lambda = weight_decay_lambda\n",
    "        self.use_batchnorm = use_batchnorm\n",
    "        self.params = {}\n",
    "\n",
    "        # 가중치 초기화\n",
    "        all_size_list = [self.input_size] + \\\n",
    "            self.hidden_size_list + [self.output_size]\n",
    "        for idx in range(1, len(all_size_list)):\n",
    "            scale = np.sqrt(2.0 / all_size_list[idx - 1])\n",
    "            self.params[f\"W{idx}\"] = scale * \\\n",
    "                np.random.randn(all_size_list[idx-1], all_size_list[idx])\n",
    "            self.params[f\"b{idx}\"] = np.zeros(all_size_list[idx])\n",
    "\n",
    "        # 계층 생성\n",
    "        self.layers = OrderedDict()\n",
    "        for idx in range(1, self.hidden_layer_num+1):\n",
    "            self.layers[f'Affine{idx}'] = Affine(\n",
    "                self.params[f\"W{idx}\"], self.params[f\"b{idx}\"])\n",
    "            if self.use_batchnorm:\n",
    "                self.params[f'gamma{idx}'] = np.ones(hidden_size_list[idx-1])\n",
    "                self.params[f'beta{idx}'] = np.zeros(hidden_size_list[idx-1])\n",
    "                self.layers[f'BatchNorm{idx}'] = BatchNormalization(\n",
    "                    self.params[f'gamma{idx}'], self.params[f'beta{idx}'])\n",
    "\n",
    "            self.layers[f'Activation_function{idx}'] = Relu()\n",
    "\n",
    "            if self.use_dropout:\n",
    "                self.layers[f'Dropout{idx}'] = Dropout(dropout_ration)\n",
    "\n",
    "        idx = self.hidden_layer_num + 1\n",
    "        self.layers[f'Affine{idx}'] = Affine(\n",
    "            self.params[f'W{idx}'], self.params[f\"b{idx}\"])\n",
    "\n",
    "        self.last_layer = SoftmaxWithLoss()\n",
    "\n",
    "    def predict(self, x, train_flg=False):\n",
    "        for key, layer in self.layers.items():\n",
    "            if \"Dropout\" in key or \"BatchNorm\" in key:\n",
    "                x = layer.forward(x, train_flg)\n",
    "            else:\n",
    "                x = layer.forward(x)\n",
    "\n",
    "        return x\n",
    "\n",
    "    def loss(self, x, t, train_flg=False):\n",
    "        y = self.predict(x, train_flg)\n",
    "\n",
    "        weight_decay = 0\n",
    "        for idx in range(1, self.hidden_layer_num + 2):\n",
    "            W = self.params[f\"W{idx}\"]\n",
    "            weight_decay += 0.5 * self.weight_decay_lambda * np.sum(W**2)\n",
    "\n",
    "        return self.last_layer.forward(y, t) + weight_decay\n",
    "\n",
    "    def accuracy(self, X, T):\n",
    "        Y = self.predict(X, train_flg=False)\n",
    "        Y = np.argmax(Y, axis=1)\n",
    "        if T.ndim != 1:\n",
    "            T = np.argmax(T, axis=1)\n",
    "\n",
    "        accuracy = np.sum(Y == T) / float(X.shape[0])\n",
    "        return accuracy\n",
    "\n",
    "    def gradient(self, x, t):\n",
    "        # forward\n",
    "        self.loss(x, t, train_flg=True)\n",
    "\n",
    "        # backward\n",
    "        dout = 1\n",
    "        dout = self.last_layer.backward(dout)\n",
    "\n",
    "        layers = list(self.layers.values())\n",
    "        layers.reverse()\n",
    "        for layer in layers:\n",
    "            dout = layer.backward(dout)\n",
    "\n",
    "        # 결과 저장\n",
    "        grads = {}\n",
    "        for idx in range(1, self.hidden_layer_num+2):\n",
    "            grads[f\"W{idx}\"] = self.layers[f'Affine{idx}'].dW + \\\n",
    "                self.weight_decay_lambda * self.params[f\"W{idx}\"]\n",
    "            grads[f\"b{idx}\"] = self.layers[f'Affine{idx}'].db\n",
    "\n",
    "            if self.use_batchnorm and idx != self.hidden_layer_num+1:\n",
    "                grads[f'gamma{idx}'] = self.layers[f'BatchNorm{idx}'].dgamma\n",
    "                grads[f'beta{idx}'] = self.layers[f'BatchNorm{idx}'].dbeta\n",
    "\n",
    "        return grads"
   ]
  },
  {
   "cell_type": "code",
   "execution_count": 3,
   "metadata": {},
   "outputs": [],
   "source": [
    "# 고정 하이퍼파라미터 설정\n",
    "verbose = False\n",
    "use_dropout = True\n",
    "epochs = 10000\n",
    "iter_per_epoch = 1000\n",
    "\n",
    "\n",
    "# 조정가능한 하이퍼파라미터 설정\n",
    "batch_size_list = [50, 100, 150, 200]\n",
    "lr_list = [0.001, 0.005, 0.01, 0.015, 0.018]\n",
    "hidden_size_list_list = [\n",
    "    [10], [10, 10], [8, 12],\n",
    "    [10, 10, 10],\n",
    "    [7, 9, 8],\n",
    "    [10, 10, 10, 10],\n",
    "    [6, 7, 8, 9]]\n",
    "dropout_ratio_list = [0.01, 0.05, 0.1, 0.15]"
   ]
  },
  {
   "cell_type": "code",
   "execution_count": 4,
   "metadata": {},
   "outputs": [],
   "source": [
    "# 데이터 읽기\n",
    "(x_train, t_train), (x_test, t_test) = load_mnist(\n",
    "    normalize=True, one_hot_label=True)\n",
    "train_size = x_train.shape[0]\n",
    "\n",
    "\n",
    "def train(batch_size, lr, hidden_size_list, dropout_ratio):\n",
    "\n",
    "    optimizer = Adam(lr=lr)\n",
    "    train_acc_list = []\n",
    "    test_acc_list = []\n",
    "\n",
    "    train_loss_list = []\n",
    "    train_loss_per_epoch = []\n",
    "\n",
    "    network = AdvancedMultiLayerNet(input_size=784, hidden_size_list=hidden_size_list,\n",
    "                                    output_size=10, use_dropout=use_dropout, dropout_ration=dropout_ratio,\n",
    "                                    weight_decay_lambda=0.01, use_batchnorm=True)\n",
    "\n",
    "    for epoch in tqdm(range(epochs)):\n",
    "        batch_mask = np.random.choice(train_size, batch_size)\n",
    "        x_batch = x_train[batch_mask]\n",
    "        t_batch = t_train[batch_mask]\n",
    "\n",
    "        grads = network.gradient(x_batch, t_batch)\n",
    "        optimizer.update(network.params, grads)\n",
    "\n",
    "        loss = network.loss(x_batch, t_batch)\n",
    "        train_loss_per_epoch.append(loss)\n",
    "        # if verbose: print(\"train loss:\" + str(loss))\n",
    "\n",
    "        if epoch % iter_per_epoch == 0:\n",
    "            x_train_sample, t_train_sample = x_train, t_train\n",
    "            x_test_sample, t_test_sample = x_test, t_test\n",
    "\n",
    "            train_acc = network.accuracy(x_train_sample, t_train_sample)\n",
    "            test_acc = network.accuracy(x_test_sample, t_test_sample)\n",
    "            train_acc_list.append(train_acc)\n",
    "            test_acc_list.append(test_acc)\n",
    "            train_loss_list.append(np.mean(train_loss_per_epoch))\n",
    "            train_loss_per_epoch = []\n",
    "\n",
    "            if verbose:\n",
    "                print(\"=== epoch:\" + str(round(epoch, 5)) + \", train acc:\" +\n",
    "                      str(round(train_acc, 5)) + \", test acc:\" + str(round(test_acc, 5)) + \" ===\")\n",
    "\n",
    "    test_acc = network.accuracy(x_test, t_test)\n",
    "\n",
    "    # save epoch, train_acc, train_loss, test_acc as csv\n",
    "    epoch_list = list(range(0, epochs, iter_per_epoch))\n",
    "    df = pd.DataFrame(\n",
    "        {\"epoch\": epoch_list, \"train_loss\": train_loss_list, \"train_acc\": train_acc_list, \"test_acc\": test_acc_list})\n",
    "    log_file_name = f\"{log_path}/{datetime.now().strftime('%H-%M-%S')}.csv\"\n",
    "    df.to_csv(log_file_name, index=False)\n",
    "\n",
    "    if verbose:\n",
    "        print(\"=============== Final Test Accuracy ===============\")\n",
    "        print(\"test acc:\" + str(test_acc))\n",
    "\n",
    "    return test_acc, log_file_name"
   ]
  },
  {
   "cell_type": "code",
   "execution_count": 5,
   "metadata": {},
   "outputs": [
    {
     "name": "stdout",
     "output_type": "stream",
     "text": [
      "batch_size: 10, lr: 0.0016, hidden_size_list: [15, 14, 14, 12], dropout_ratio: 0.016\n"
     ]
    },
    {
     "name": "stderr",
     "output_type": "stream",
     "text": [
      "100%|██████████| 10000/10000 [00:09<00:00, 1109.99it/s]\n"
     ]
    },
    {
     "name": "stdout",
     "output_type": "stream",
     "text": [
      "test_acc: 0.9046, log_file_name: log_2024-05-11_11-29-21/11-29-30.csv\n",
      "\n",
      "batch_size: 10, lr: 0.0016, hidden_size_list: [15, 14, 14, 12], dropout_ratio: 0.008\n"
     ]
    },
    {
     "name": "stderr",
     "output_type": "stream",
     "text": [
      "100%|██████████| 10000/10000 [00:09<00:00, 1093.61it/s]\n"
     ]
    },
    {
     "name": "stdout",
     "output_type": "stream",
     "text": [
      "test_acc: 0.9165, log_file_name: log_2024-05-11_11-29-21/11-29-39.csv\n",
      "\n",
      "batch_size: 20, lr: 0.0016, hidden_size_list: [15, 14, 14, 12], dropout_ratio: 0.016\n"
     ]
    },
    {
     "name": "stderr",
     "output_type": "stream",
     "text": [
      "100%|██████████| 10000/10000 [00:09<00:00, 1001.35it/s]\n"
     ]
    },
    {
     "name": "stdout",
     "output_type": "stream",
     "text": [
      "test_acc: 0.9322, log_file_name: log_2024-05-11_11-29-21/11-29-49.csv\n",
      "\n",
      "batch_size: 20, lr: 0.0016, hidden_size_list: [15, 14, 14, 12], dropout_ratio: 0.008\n"
     ]
    },
    {
     "name": "stderr",
     "output_type": "stream",
     "text": [
      "100%|██████████| 10000/10000 [00:09<00:00, 1065.17it/s]"
     ]
    },
    {
     "name": "stdout",
     "output_type": "stream",
     "text": [
      "test_acc: 0.9287, log_file_name: log_2024-05-11_11-29-21/11-29-59.csv\n",
      "\n",
      "=============== Best Result ===============\n",
      "batch_size: 20, lr: 0.0016, hidden_size_list: [15, 14, 14, 12], dropout_ratio: 0.016\n",
      "test_acc: 0.9322, log_file_name: log_2024-05-11_11-29-21/11-29-49.csv\n",
      "\n"
     ]
    },
    {
     "name": "stderr",
     "output_type": "stream",
     "text": [
      "\n"
     ]
    }
   ],
   "source": [
    "result_list = []\n",
    "for batch_size in batch_size_list:\n",
    "    for lr in lr_list:\n",
    "        for hidden_size_list in hidden_size_list_list:\n",
    "            for dropout_ratio in dropout_ratio_list:\n",
    "                print(f\"batch_size: {batch_size}, lr: {lr}, hidden_size_list: \"\n",
    "                      f\"{hidden_size_list}, dropout_ratio: {dropout_ratio}\")\n",
    "                test_acc, log_file_name = train(\n",
    "                    batch_size, lr, hidden_size_list, dropout_ratio)\n",
    "                result_list.append(\n",
    "                    (batch_size, lr, str(hidden_size_list), dropout_ratio, log_file_name, test_acc))\n",
    "                print(f\"test_acc: {test_acc}, \"\n",
    "                      f\"log_file_name: {log_file_name}\\n\")\n",
    "\n",
    "best_combination = max(result_list, key=lambda x: x[-1])\n",
    "print(\"=============== Best Result ===============\")\n",
    "print(f\"batch_size: {best_combination[0]}, lr: {best_combination[1]}, hidden_size_list: \"\n",
    "      f\"{best_combination[2]}, dropout_ratio: {best_combination[3]}\\n\"\n",
    "      f\"test_acc: {best_combination[5]}, \"\n",
    "      f\"log_file_name: {best_combination[4]}\\n\")"
   ]
  }
 ],
 "metadata": {
  "kernelspec": {
   "display_name": "Python 3 (ipykernel)",
   "language": "python",
   "name": "python3"
  },
  "language_info": {
   "codemirror_mode": {
    "name": "ipython",
    "version": 3
   },
   "file_extension": ".py",
   "mimetype": "text/x-python",
   "name": "python",
   "nbconvert_exporter": "python",
   "pygments_lexer": "ipython3",
   "version": "3.12.1"
  }
 },
 "nbformat": 4,
 "nbformat_minor": 2
}
